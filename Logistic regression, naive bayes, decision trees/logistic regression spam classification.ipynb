{
 "cells": [
  {
   "cell_type": "code",
   "execution_count": 16,
   "metadata": {},
   "outputs": [],
   "source": [
    "#importing the libraries\n",
    "\n",
    "import numpy as np\n",
    "import pandas as pd\n",
    "import matplotlib.pyplot as plt \n",
    "import math"
   ]
  },
  {
   "cell_type": "code",
   "execution_count": 17,
   "metadata": {},
   "outputs": [],
   "source": [
    "#importing th data set\n",
    "\n",
    "dataset = pd.read_csv(\"C:/Users/Mohil/Documents/Quarter 2/CS 613/spambase.data\")"
   ]
  },
  {
   "cell_type": "code",
   "execution_count": 18,
   "metadata": {},
   "outputs": [],
   "source": [
    "#randomizing the data set\n",
    "\n",
    "data = dataset.iloc[:,:].values\n",
    "d = len(dataset.iloc[0,:].values)\n",
    "np.random.seed(0)\n",
    "np.random.shuffle(data)\n",
    "\n",
    "x = data[:,:d-1]\n",
    "y = data[:,-1]\n",
    "\n"
   ]
  },
  {
   "cell_type": "code",
   "execution_count": 19,
   "metadata": {},
   "outputs": [],
   "source": [
    "#splitting the dataset\n",
    "\n",
    "from sklearn.model_selection import train_test_split\n",
    "x_train, x_test, y_train, y_test = train_test_split(x, y, test_size = 1/3)"
   ]
  },
  {
   "cell_type": "code",
   "execution_count": 20,
   "metadata": {},
   "outputs": [],
   "source": [
    "#standardizing the feature vector\n",
    "\n",
    "mean = np.mean(x_train, axis=0)\n",
    "std = np.std(x_train, axis =0, ddof=0)\n",
    "x_train = (x_train-mean)/std\n",
    "\n",
    "x_test = (x_test-mean)/std"
   ]
  },
  {
   "cell_type": "code",
   "execution_count": 21,
   "metadata": {},
   "outputs": [],
   "source": [
    "#adding bias to feature vector\n",
    "bias = []\n",
    "for i in range(0,len(x_train)):\n",
    "    bias.insert(i,[1]) \n",
    "\n",
    "x_train = np.insert(x_train,[0],bias, axis=1)\n",
    "\n",
    "bias = []\n",
    "for i in range(0,len(x_test)):\n",
    "    bias.insert(i,[1]) \n",
    "\n",
    "x_test = np.insert(x_test,[0],bias, axis=1)\n"
   ]
  },
  {
   "cell_type": "code",
   "execution_count": 22,
   "metadata": {
    "scrolled": false
   },
   "outputs": [],
   "source": [
    "x_transpose = x_train.transpose()\n",
    "\n",
    "#learning rate\n",
    "rate = 0.01\n",
    "n1 = len(x_train)\n",
    "n2 = len(x_test)\n",
    "theta  = []\n",
    "\n",
    "y_pred = []\n",
    "gr = []\n",
    "loss = 0\n",
    "\n",
    "for i in range(0,d):\n",
    "    theta.append(np.random.uniform(-1,1))\n",
    "\n",
    "\n",
    "for i in range(0,1500):\n",
    "    \n",
    "    prev_loss = loss\n",
    "      \n",
    "    #calculate loss function for each sample\n",
    "    loss = 0\n",
    "    \n",
    "    for j in range(0,n1):\n",
    "        \n",
    "        #calculating the gradient\n",
    "        g = 1/(1+math.exp(-np.dot(x_train[j],theta)))\n",
    "        gr.append(g)\n",
    "        loss = loss+ (y_train[j]*np.log(g) + (1-y_train[j])*np.log(1-g)) \n",
    "       \n",
    "    #applying the second condition\n",
    "    change = abs(loss - prev_loss)\n",
    "    if change < pow(2,-23):\n",
    "        break\n",
    "        \n",
    "    #updating the theta values\n",
    "    xty = np.subtract(y_train,gr)\n",
    "    update = (rate/n1)*np.dot(x_transpose,xty)   \n",
    "    theta = np.add(theta,update)\n",
    "    gr.clear()\n",
    "\n",
    "#predicting the y values based on threshold 0.5\n",
    "for i in range(0,n2):\n",
    "    z = np.dot(x_test[i], theta)\n",
    "    if(z < 0.5):\n",
    "        y_pred.insert(i,0)\n",
    "    else:\n",
    "        y_pred.insert(i,1)\n"
   ]
  },
  {
   "cell_type": "code",
   "execution_count": 23,
   "metadata": {},
   "outputs": [
    {
     "name": "stdout",
     "output_type": "stream",
     "text": [
      "0.9029304029304029 0.792604501607717 0.8441780821917809 0.8813559322033898\n"
     ]
    }
   ],
   "source": [
    "#calculating the statistics\n",
    "\n",
    "tp = 0\n",
    "tn = 0\n",
    "fp = 0\n",
    "fn = 0\n",
    "a = 0\n",
    "for i in range(0,n2):\n",
    "    if(y_pred[i] == 1 and y_test[i] == 1):\n",
    "        tp = tp+1\n",
    "    if(y_pred[i] == 1 and y_test[i] == 0):\n",
    "        fp = fp +1\n",
    "    if(y_pred[i] == 0 and y_test[i] == 0):\n",
    "        tn = tn+1\n",
    "    if(y_pred[i] == 0 and y_test[i] == 1):\n",
    "        fn = fn+1\n",
    "    if(y_pred[i]==y_test[i]):\n",
    "        a = a+1\n",
    "\n",
    "precision = tp/(tp+fp)\n",
    "recall = tp/(tp+fn)\n",
    "f1 = 2*precision*recall/(precision+ recall)\n",
    "accuracy = a/n2\n",
    "\n",
    "print(precision,recall,f1,accuracy)"
   ]
  },
  {
   "cell_type": "code",
   "execution_count": null,
   "metadata": {},
   "outputs": [],
   "source": []
  }
 ],
 "metadata": {
  "kernelspec": {
   "display_name": "Python 3",
   "language": "python",
   "name": "python3"
  },
  "language_info": {
   "codemirror_mode": {
    "name": "ipython",
    "version": 3
   },
   "file_extension": ".py",
   "mimetype": "text/x-python",
   "name": "python",
   "nbconvert_exporter": "python",
   "pygments_lexer": "ipython3",
   "version": "3.7.4"
  }
 },
 "nbformat": 4,
 "nbformat_minor": 2
}
