{
 "cells": [
  {
   "cell_type": "code",
   "execution_count": 10,
   "metadata": {},
   "outputs": [],
   "source": [
    "#importing the libraries\n",
    "\n",
    "import numpy as np\n",
    "import pandas as pd\n",
    "import matplotlib.pyplot as plt \n",
    "import math"
   ]
  },
  {
   "cell_type": "code",
   "execution_count": 11,
   "metadata": {},
   "outputs": [],
   "source": [
    "#importing th data set\n",
    "\n",
    "dataset = pd.read_csv(\"C:/Users/Mohil/Documents/Quarter 2/CS 613/spambase.data\")"
   ]
  },
  {
   "cell_type": "code",
   "execution_count": 12,
   "metadata": {},
   "outputs": [],
   "source": [
    "#randomizing the data set\n",
    "\n",
    "data = dataset.iloc[:,:].values\n",
    "d = len(dataset.iloc[0,:].values)\n",
    "np.random.seed(0)\n",
    "np.random.shuffle(data)\n",
    "\n",
    "x = data[:,:d-1]\n",
    "y = data[:,-1]\n"
   ]
  },
  {
   "cell_type": "code",
   "execution_count": 13,
   "metadata": {},
   "outputs": [],
   "source": [
    "#splitting the dataset\n",
    "\n",
    "from sklearn.model_selection import train_test_split\n",
    "x_train, x_test, y_train, y_test = train_test_split(x, y, test_size = 1/3)"
   ]
  },
  {
   "cell_type": "code",
   "execution_count": 14,
   "metadata": {},
   "outputs": [],
   "source": [
    "#standardizing the feature vector\n",
    "\n",
    "mean = np.mean(x_train, axis=0)\n",
    "std = np.std(x_train, axis =0, ddof=0)\n",
    "x_train = (x_train-mean)/std\n",
    "\n",
    "x_test = (x_test-mean)/std"
   ]
  },
  {
   "cell_type": "code",
   "execution_count": 15,
   "metadata": {},
   "outputs": [],
   "source": [
    "#adding bias to feature vector\n",
    "bias = []\n",
    "for i in range(0,len(x_train)):\n",
    "    bias.insert(i,[1]) \n",
    "\n",
    "x_train = np.insert(x_train,[0],bias, axis=1)\n",
    "\n",
    "bias = []\n",
    "for i in range(0,len(x_test)):\n",
    "    bias.insert(i,[1]) \n",
    "\n",
    "x_test = np.insert(x_test,[0],bias, axis=1)"
   ]
  },
  {
   "cell_type": "code",
   "execution_count": 16,
   "metadata": {},
   "outputs": [],
   "source": [
    "#splitting data into spam and not spam classes\n",
    "\n",
    "x_spam = []\n",
    "x_notspam = []\n",
    "for i in range(0,len(x_train)):\n",
    "    if(y_train[i] == 1):\n",
    "        x_spam.append(x_train[i])\n",
    "    else:\n",
    "        x_notspam.append(x_train[i])\n",
    "\n",
    "#calculating the  mean and standard deviation of each feature\n",
    "spam_stats = []\n",
    "notspam_stats = []\n",
    "\n",
    "for i in range(0,d-1):\n",
    "    spam_stats.append([np.mean([row[i] for row in x_spam]),np.std([row[i] for row in x_spam])])\n",
    "\n",
    "for i in range(0,d-1):\n",
    "    notspam_stats.append([np.mean([row[i] for row in x_notspam]),np.std([row[i] for row in x_notspam])])"
   ]
  },
  {
   "cell_type": "code",
   "execution_count": 17,
   "metadata": {
    "scrolled": false
   },
   "outputs": [
    {
     "name": "stderr",
     "output_type": "stream",
     "text": [
      "C:\\Users\\Mohil\\Anaconda3\\lib\\site-packages\\ipykernel_launcher.py:11: RuntimeWarning: divide by zero encountered in log\n",
      "  # This is added back by InteractiveShellApp.init_path()\n",
      "C:\\Users\\Mohil\\Anaconda3\\lib\\site-packages\\ipykernel_launcher.py:24: RuntimeWarning: divide by zero encountered in log\n"
     ]
    }
   ],
   "source": [
    "#finding out the probabilities\n",
    "\n",
    "from scipy.stats import norm\n",
    "epsilon = np.finfo(float).eps\n",
    "\n",
    "spam_probs = []\n",
    "\n",
    "for i in range(0,len(x_test)):\n",
    "        pr = np.log(len(x_spam)/len(x_train))\n",
    "        for j in range(0,len(spam_stats)):\n",
    "            row = np.log(norm.pdf(x_test[i][j],spam_stats[j][0]+epsilon,spam_stats[j][1]+epsilon))\n",
    "\n",
    "            pr = pr + row\n",
    "            \n",
    "        spam_probs.append(pr)\n",
    "\n",
    "\n",
    "\n",
    "notspam_probs = []\n",
    "\n",
    "for i in range(0,len(x_test)):\n",
    "        pr = np.log(len(x_notspam)/len(x_train))\n",
    "        for j in range(0,len(notspam_stats)):\n",
    "            row = np.log(norm.pdf(x_test[i][j],notspam_stats[j][0]+epsilon,notspam_stats[j][1]+epsilon))\n",
    "            pr = pr + row\n",
    "            \n",
    "        notspam_probs.append(pr)\n",
    "\n",
    "#predicting the y values        \n",
    "y_pred = []\n",
    "for i in range(0,len(x_test)):\n",
    "    if(spam_probs[i] >= notspam_probs[i]):\n",
    "        y_pred.append(1)\n",
    "    else:\n",
    "        y_pred.append(0)\n",
    "        \n",
    "#divide by zero error encountered because of bias values. "
   ]
  },
  {
   "cell_type": "code",
   "execution_count": 18,
   "metadata": {},
   "outputs": [
    {
     "name": "stdout",
     "output_type": "stream",
     "text": [
      "0.6630076838638859 0.9710610932475884 0.7879973907371167 0.788135593220339\n"
     ]
    }
   ],
   "source": [
    "#calculating the statistics\n",
    "\n",
    "tp = 0\n",
    "tn = 0\n",
    "fp = 0\n",
    "fn = 0\n",
    "a = 0\n",
    "for i in range(0,len(y_pred)):\n",
    "    if(y_pred[i] == 1 and y_test[i] == 1):\n",
    "        tp = tp+1\n",
    "    if(y_pred[i] == 1 and y_test[i] == 0):\n",
    "        fp = fp +1\n",
    "    if(y_pred[i] == 0 and y_test[i] == 0):\n",
    "        tn = tn+1\n",
    "    if(y_pred[i] == 0 and y_test[i] == 1):\n",
    "        fn = fn+1\n",
    "    if(y_pred[i]==y_test[i]):\n",
    "        a = a+1\n",
    "\n",
    "precision = tp/(tp+fp)\n",
    "recall = tp/(tp+fn)\n",
    "f1 = 2*precision*recall/(precision+ recall)\n",
    "accuracy = a/len(y_pred)\n",
    "\n",
    "print(precision,recall,f1,accuracy)"
   ]
  },
  {
   "cell_type": "code",
   "execution_count": null,
   "metadata": {},
   "outputs": [],
   "source": [
    "\n"
   ]
  },
  {
   "cell_type": "code",
   "execution_count": null,
   "metadata": {},
   "outputs": [],
   "source": []
  }
 ],
 "metadata": {
  "kernelspec": {
   "display_name": "Python 3",
   "language": "python",
   "name": "python3"
  },
  "language_info": {
   "codemirror_mode": {
    "name": "ipython",
    "version": 3
   },
   "file_extension": ".py",
   "mimetype": "text/x-python",
   "name": "python",
   "nbconvert_exporter": "python",
   "pygments_lexer": "ipython3",
   "version": "3.7.4"
  }
 },
 "nbformat": 4,
 "nbformat_minor": 2
}
