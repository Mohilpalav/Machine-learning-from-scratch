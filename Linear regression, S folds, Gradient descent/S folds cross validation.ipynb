{
 "cells": [
  {
   "cell_type": "code",
   "execution_count": 12,
   "metadata": {},
   "outputs": [],
   "source": [
    "#importing the libraries\n",
    "\n",
    "import numpy as np\n",
    "import pandas as pd\n",
    "import matplotlib.pyplot as plt \n",
    "\n",
    "from sklearn.linear_model import LinearRegression\n",
    "from sklearn.model_selection import KFold\n",
    "from sklearn import metrics"
   ]
  },
  {
   "cell_type": "code",
   "execution_count": 13,
   "metadata": {},
   "outputs": [],
   "source": [
    "#importing th data set\n",
    "\n",
    "dataset = pd.read_csv(\"C:/Users/Mohil/Documents/Quarter 2/CS 613/x06Simple.csv\")"
   ]
  },
  {
   "cell_type": "code",
   "execution_count": 14,
   "metadata": {},
   "outputs": [
    {
     "name": "stdout",
     "output_type": "stream",
     "text": [
      "621.8242905047474\n",
      "90.89454468663206\n"
     ]
    }
   ],
   "source": [
    "#iterations\n",
    "\n",
    "data = dataset.iloc[:,:].values\n",
    "d = len(dataset.iloc[0,:].values)\n",
    "\n",
    "np.random.seed(0)\n",
    "\n",
    "#size of S fold\n",
    "fold = 3\n",
    "rmse = []\n",
    "\n",
    "for i in range(0,20):\n",
    "\n",
    "    mse = []\n",
    "\n",
    "    #randomize the samples\n",
    "\n",
    "    np.random.shuffle(data)\n",
    "    x = data[:,[1,d-2]]\n",
    "    y = data[:,d-1]\n",
    "\n",
    "\n",
    "    #split the samples into S folds\n",
    "\n",
    "    kf = KFold(n_splits=fold)\n",
    "    kf.get_n_splits(x)\n",
    "\n",
    "    k = 0\n",
    "    #splitting samples into training and testing data\n",
    "\n",
    "    for train_index, test_index in kf.split(x):\n",
    "        x_train, x_test = x[train_index], x[test_index]\n",
    "        y_train, y_test = y[train_index], y[test_index]\n",
    "\n",
    "        #standardizing the samples\n",
    "\n",
    "        mean = np.mean(x_train, axis=0)\n",
    "        std = np.std(x_train, axis =0, ddof=0)\n",
    "        x_train = (x_train-mean)/std\n",
    "        x_test = (x_test-mean)/std\n",
    "\n",
    "        #adding a bias feature\n",
    "        bias = []\n",
    "        for i in range(0,len(x_train)):\n",
    "            bias.insert(i,[1]) \n",
    "\n",
    "        x_train = np.insert(x_train,[0],bias, axis=1)\n",
    "\n",
    "        bias = []\n",
    "        for i in range(0,len(x_test)):\n",
    "            bias.insert(i,[1]) \n",
    "\n",
    "        x_test = np.insert(x_test,[0],bias, axis=1)\n",
    "\n",
    "        #fitting samples into linear regression model\n",
    "\n",
    "        x_transpose = x_train.transpose()\n",
    "        z = np.dot(x_transpose,x_train)\n",
    "        inverse = np.linalg.inv(z)\n",
    "        theta = np.dot(inverse, np.dot(x_transpose,y_train))\n",
    "\n",
    "        y_pred = np.dot(x_test, theta)\n",
    "\n",
    "        #finding the mean square values\n",
    "        mse.insert(k,metrics.mean_squared_error(y_test,y_pred))\n",
    "        k = k+1\n",
    "\n",
    "    #finding the rmse values for each iteration    \n",
    "    rmse.append(np.sqrt(mse))\n",
    "\n",
    "#calculating the mean \n",
    "mean = np.mean(rmse)\n",
    "print(mean)\n",
    "\n",
    "#calculating the standard deviation \n",
    "sd = np.std(rmse)\n",
    "print(sd)    \n",
    "    "
   ]
  },
  {
   "cell_type": "code",
   "execution_count": null,
   "metadata": {},
   "outputs": [],
   "source": []
  },
  {
   "cell_type": "code",
   "execution_count": null,
   "metadata": {},
   "outputs": [],
   "source": []
  }
 ],
 "metadata": {
  "kernelspec": {
   "display_name": "Python 3",
   "language": "python",
   "name": "python3"
  },
  "language_info": {
   "codemirror_mode": {
    "name": "ipython",
    "version": 3
   },
   "file_extension": ".py",
   "mimetype": "text/x-python",
   "name": "python",
   "nbconvert_exporter": "python",
   "pygments_lexer": "ipython3",
   "version": "3.7.4"
  }
 },
 "nbformat": 4,
 "nbformat_minor": 2
}
