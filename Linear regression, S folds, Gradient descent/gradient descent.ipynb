{
 "cells": [
  {
   "cell_type": "code",
   "execution_count": 1,
   "metadata": {},
   "outputs": [],
   "source": [
    "#importing the libraries\n",
    "\n",
    "import numpy as np\n",
    "import pandas as pd\n",
    "import matplotlib.pyplot as plt \n",
    "import math"
   ]
  },
  {
   "cell_type": "code",
   "execution_count": 2,
   "metadata": {},
   "outputs": [],
   "source": [
    "#importing th data set\n",
    "\n",
    "dataset = pd.read_csv(\"C:/Users/Mohil/Documents/Quarter 2/CS 613/x06Simple.csv\")"
   ]
  },
  {
   "cell_type": "code",
   "execution_count": 3,
   "metadata": {},
   "outputs": [],
   "source": [
    "#randomizing the data set\n",
    "\n",
    "data = dataset.iloc[:,:].values\n",
    "d = len(dataset.iloc[0,:].values)\n",
    "\n",
    "np.random.seed(0)\n",
    "np.random.shuffle(data)\n",
    "\n",
    "x = data[:,[1,d-2]]\n",
    "y = data[:,d-1]"
   ]
  },
  {
   "cell_type": "code",
   "execution_count": 4,
   "metadata": {},
   "outputs": [],
   "source": [
    "#splitting the dataset\n",
    "\n",
    "from sklearn.model_selection import train_test_split\n",
    "x_train, x_test, y_train, y_test = train_test_split(x, y, test_size = 1/3)"
   ]
  },
  {
   "cell_type": "code",
   "execution_count": 5,
   "metadata": {},
   "outputs": [],
   "source": [
    "#standardizing the feature vector\n",
    "\n",
    "mean = np.mean(x_train, axis=0)\n",
    "std = np.std(x_train, axis =0, ddof=0)\n",
    "x_train = (x_train-mean)/std\n",
    "\n",
    "x_test = (x_test-mean)/std"
   ]
  },
  {
   "cell_type": "code",
   "execution_count": 6,
   "metadata": {},
   "outputs": [],
   "source": [
    "#adding bias to feature vector\n",
    "bias = []\n",
    "for i in range(0,len(x_train)):\n",
    "    bias.insert(i,[1]) \n",
    "\n",
    "x_train = np.insert(x_train,[0],bias, axis=1)\n",
    "\n",
    "bias = []\n",
    "for i in range(0,len(x_test)):\n",
    "    bias.insert(i,[1]) \n",
    "\n",
    "x_test = np.insert(x_test,[0],bias, axis=1)\n"
   ]
  },
  {
   "cell_type": "code",
   "execution_count": 7,
   "metadata": {
    "scrolled": false
   },
   "outputs": [
    {
     "name": "stdout",
     "output_type": "stream",
     "text": [
      "[3058.6650908  1259.47191497 -248.4326262 ]\n",
      "582.3942155657766\n",
      "576.3226321847862\n"
     ]
    },
    {
     "data": {
      "image/png": "[encoded data removed]",
      "text/plain": [
       "<Figure size 432x288 with 1 Axes>"
      ]
     },
     "metadata": {
      "needs_background": "light"
     },
     "output_type": "display_data"
    },
    {
     "data": {
      "image/png": "[encoded data removed]",
      "text/plain": [
       "<Figure size 432x288 with 1 Axes>"
      ]
     },
     "metadata": {
      "needs_background": "light"
     },
     "output_type": "display_data"
    }
   ],
   "source": [
    "\n",
    "np.random.seed(0)\n",
    "\n",
    "x_transpose = x_train.transpose()\n",
    "#learning rate\n",
    "rate = 0.01\n",
    "n1 = len(x_train)\n",
    "n2 = len(x_test)\n",
    "theta  = []\n",
    "\n",
    "y_pred_train = []\n",
    "y_pred_test = []\n",
    "rmse_train = []\n",
    "rmse_test = []\n",
    "rmse = 1\n",
    "\n",
    "x =[]\n",
    "\n",
    "for i in range(0,d-1):\n",
    "    theta.append(np.random.uniform(-1,1))\n",
    "\n",
    "t = len(theta)\n",
    "\n",
    "for i in range(0,1000):\n",
    "    \n",
    "    x.append(i)\n",
    "    prev_rmse = rmse\n",
    "    \n",
    "    #calculating the rmse\n",
    "    for j in range(0,n1):\n",
    "        y_pred_train.insert(j,np.dot(x_train[j], theta))   \n",
    "    \n",
    "    sum = 0\n",
    "    for k in range(0,n1):\n",
    "        sum = sum + pow(y_train[k]-y_pred_train[k],2)\n",
    "    \n",
    "    rmse = math.sqrt(sum/n1)\n",
    "    rmse_train.append(rmse)\n",
    "    \n",
    "    for j in range(0,n2):\n",
    "        y_pred_test.insert(j,np.dot(x_test[j], theta))   \n",
    "    \n",
    "    sum = 0\n",
    "    for k in range(0,n2):\n",
    "        sum = sum + pow(y_test[k]-y_pred_test[k],2)\n",
    "\n",
    "    rmse_test.append(math.sqrt(sum/n2))\n",
    "    \n",
    "    #updating the theta values\n",
    "    \n",
    "    xty = np.subtract(np.dot(x_train,theta), y_train)\n",
    "    update = (rate/n1)*np.dot(x_transpose,xty)\n",
    "    prev_theta = theta\n",
    "    theta = np.subtract(theta,update)\n",
    "    \n",
    "    #applying the second condition\n",
    "    change = abs((rmse - prev_rmse)/prev_rmse)\n",
    "    \n",
    "    if change < pow(2,-23):\n",
    "        break\n",
    "\n",
    "print(prev_theta)\n",
    "print(rmse_train[i])\n",
    "print(rmse_test[i])\n",
    "\n",
    "plt.plot(x, rmse_train) \n",
    "plt.title('iteration(i) vs RMSE of training data')\n",
    "plt.xlabel('iteration')\n",
    "plt.ylabel('RMSE')\n",
    "plt.show()\n",
    "\n",
    "plt.plot(x, rmse_test)\n",
    "plt.title('iteration(i) vs RMSE of testing data')\n",
    "plt.xlabel('iteration')\n",
    "plt.ylabel('RMSE')\n",
    "plt.show()\n",
    "\n",
    "\n",
    "    \n",
    "\n"
   ]
  },
  {
   "cell_type": "code",
   "execution_count": null,
   "metadata": {},
   "outputs": [],
   "source": []
  },
  {
   "cell_type": "code",
   "execution_count": null,
   "metadata": {},
   "outputs": [],
   "source": []
  }
 ],
 "metadata": {
  "kernelspec": {
   "display_name": "Python 3",
   "language": "python",
   "name": "python3"
  },
  "language_info": {
   "codemirror_mode": {
    "name": "ipython",
    "version": 3
   },
   "file_extension": ".py",
   "mimetype": "text/x-python",
   "name": "python",
   "nbconvert_exporter": "python",
   "pygments_lexer": "ipython3",
   "version": "3.7.4"
  }
 },
 "nbformat": 4,
 "nbformat_minor": 2
}
