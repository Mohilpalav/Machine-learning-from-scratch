{
 "cells": [
  {
   "cell_type": "code",
   "execution_count": 1,
   "metadata": {},
   "outputs": [],
   "source": [
    "#importing the libraries\n",
    "\n",
    "import numpy as np\n",
    "import pandas as pd\n",
    "import matplotlib.pyplot as plt \n",
    "import math\n"
   ]
  },
  {
   "cell_type": "code",
   "execution_count": 2,
   "metadata": {},
   "outputs": [],
   "source": [
    "#importing th data set\n",
    "\n",
    "dataset = pd.read_csv(\"C:/Users/Mohil/Documents/Quarter 2/CS 613/x06Simple.csv\")"
   ]
  },
  {
   "cell_type": "code",
   "execution_count": 3,
   "metadata": {},
   "outputs": [],
   "source": [
    "#randomizing the data set\n",
    "\n",
    "data = dataset.iloc[:,:].values\n",
    "\n",
    "#calculating the number of columns\n",
    "d = len(dataset.iloc[0,:].values) \n",
    "\n",
    "np.random.seed(0)\n",
    "np.random.shuffle(data)\n",
    "\n",
    "x = data[:,[1,d-2]]\n",
    "y = data[:,d-1]\n"
   ]
  },
  {
   "cell_type": "code",
   "execution_count": 4,
   "metadata": {},
   "outputs": [],
   "source": [
    "#splitting the dataset\n",
    "\n",
    "from sklearn.model_selection import train_test_split\n",
    "x_train, x_test, y_train, y_test = train_test_split(x, y, test_size = 1/3)"
   ]
  },
  {
   "cell_type": "code",
   "execution_count": 5,
   "metadata": {},
   "outputs": [],
   "source": [
    "#standardizing the feature vector\n",
    "\n",
    "mean = np.mean(x_train, axis=0)\n",
    "std = np.std(x_train, axis =0, ddof=0)\n",
    "x_train = (x_train-mean)/std\n",
    "\n",
    "x_test = (x_test-mean)/std"
   ]
  },
  {
   "cell_type": "code",
   "execution_count": 6,
   "metadata": {},
   "outputs": [],
   "source": [
    "#adding bias to feature vector\n",
    "bias = []\n",
    "for i in range(0,len(x_train)):\n",
    "    bias.insert(i,[1]) \n",
    "\n",
    "x_train = np.insert(x_train,[0],bias, axis=1)\n",
    "\n",
    "bias = []\n",
    "for i in range(0,len(x_test)):\n",
    "    bias.insert(i,[1]) \n",
    "\n",
    "x_test = np.insert(x_test,[0],bias, axis=1)"
   ]
  },
  {
   "cell_type": "code",
   "execution_count": 7,
   "metadata": {},
   "outputs": [
    {
     "name": "stdout",
     "output_type": "stream",
     "text": [
      "[3060.4137931  1260.36279274 -247.88856759]\n"
     ]
    }
   ],
   "source": [
    "#fit into regression model\n",
    "\n",
    "x_transpose = x_train.transpose()\n",
    "z = np.dot(x_transpose,x_train)\n",
    "inverse = np.linalg.inv(z)\n",
    "theta = np.dot(inverse, np.dot(x_transpose,y_train))\n",
    "print(theta)"
   ]
  },
  {
   "cell_type": "code",
   "execution_count": 8,
   "metadata": {
    "scrolled": true
   },
   "outputs": [],
   "source": [
    "#applying the solution to testing samples\n",
    "y_pred = np.dot(x_test, theta)\n"
   ]
  },
  {
   "cell_type": "code",
   "execution_count": 9,
   "metadata": {},
   "outputs": [
    {
     "name": "stdout",
     "output_type": "stream",
     "text": [
      "576.1462877627024\n"
     ]
    }
   ],
   "source": [
    "#finding out RMSE\n",
    "n = len(y_test)\n",
    "sum = 0\n",
    "for i in range(0,n):\n",
    "    sum = sum + pow(y_test[i]-y_pred[i],2)\n",
    "\n",
    "rmse = math.sqrt(sum/n)\n",
    "print(rmse)\n"
   ]
  },
  {
   "cell_type": "code",
   "execution_count": null,
   "metadata": {
    "scrolled": true
   },
   "outputs": [],
   "source": []
  }
 ],
 "metadata": {
  "kernelspec": {
   "display_name": "Python 3",
   "language": "python",
   "name": "python3"
  },
  "language_info": {
   "codemirror_mode": {
    "name": "ipython",
    "version": 3
   },
   "file_extension": ".py",
   "mimetype": "text/x-python",
   "name": "python",
   "nbconvert_exporter": "python",
   "pygments_lexer": "ipython3",
   "version": "3.7.4"
  }
 },
 "nbformat": 4,
 "nbformat_minor": 2
}
