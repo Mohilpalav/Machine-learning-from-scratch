{
 "cells": [
  {
   "cell_type": "code",
   "execution_count": 9,
   "metadata": {},
   "outputs": [],
   "source": [
    "#importing the libraries\n",
    "\n",
    "import numpy as np\n",
    "import pandas as pd\n",
    "import matplotlib.pyplot as plt \n",
    "import math\n"
   ]
  },
  {
   "cell_type": "code",
   "execution_count": 10,
   "metadata": {},
   "outputs": [],
   "source": [
    "#importing th data set\n",
    "\n",
    "dataset = pd.read_csv(\"C:/Users/Mohil/Documents/Quarter 2/CS 613/x06Simple.csv\")"
   ]
  },
  {
   "cell_type": "code",
   "execution_count": 11,
   "metadata": {},
   "outputs": [],
   "source": [
    "#randomizing the data set\n",
    "\n",
    "data = dataset.iloc[:,:].values\n",
    "d = len(dataset.iloc[0,:].values)\n",
    "\n",
    "np.random.seed(0)\n",
    "np.random.shuffle(data)\n",
    "\n",
    "x = data[:,[1,d-2]]\n",
    "y = data[:,d-1]\n"
   ]
  },
  {
   "cell_type": "code",
   "execution_count": 12,
   "metadata": {},
   "outputs": [],
   "source": [
    "#splitting the dataset\n",
    "\n",
    "from sklearn.model_selection import train_test_split\n",
    "x_train, x_test, y_train, y_test = train_test_split(x, y, test_size = 1/3)"
   ]
  },
  {
   "cell_type": "code",
   "execution_count": 13,
   "metadata": {},
   "outputs": [],
   "source": [
    "#standardizing the feature vector\n",
    "\n",
    "mean = np.mean(x_train, axis=0)\n",
    "std = np.std(x_train, axis =0, ddof=0)\n",
    "x_train = (x_train-mean)/std\n",
    "\n",
    "x_test = (x_test-mean)/std"
   ]
  },
  {
   "cell_type": "code",
   "execution_count": 14,
   "metadata": {},
   "outputs": [],
   "source": [
    "#adding bias to feature vector\n",
    "bias = []\n",
    "for i in range(0,len(x_train)):\n",
    "    bias.insert(i,[1]) \n",
    "\n",
    "x_train = np.insert(x_train,[0],bias, axis=1)\n",
    "\n",
    "bias = []\n",
    "for i in range(0,len(x_test)):\n",
    "    bias.insert(i,[1]) \n",
    "\n",
    "x_test = np.insert(x_test,[0],bias, axis=1)\n"
   ]
  },
  {
   "cell_type": "code",
   "execution_count": 15,
   "metadata": {
    "scrolled": true
   },
   "outputs": [],
   "source": [
    "#calculating the weight vector\n",
    "\n",
    "a = x_train[:,[1,2]]\n",
    "b = x_test[:,[1,2]]\n",
    "\n",
    "w = []\n",
    "y_pred = []\n",
    "  \n",
    "for i in range(0,len(b)):\n",
    "\n",
    "    for j in range(0,len(a)):\n",
    "        # calculating d(a,b)\n",
    "        c = abs(a[j] - b[i])\n",
    "        #calculating w assuming k =1\n",
    "        w.insert(j,math.exp(-1*(np.sum(c, axis = 0 ))))\n",
    "        j = j+1\n",
    "    \n",
    "    #training the model\n",
    "    w_diag = np.diag(w)\n",
    "    x_transpose =  x_train.transpose()\n",
    "    xtw = np.dot(x_transpose,w_diag)\n",
    "    inverse = np.linalg.inv(np.dot(xtw,x_train))\n",
    "    theta = np.dot(inverse,np.dot(xtw,y_train))\n",
    "    \n",
    "    #predicting the values\n",
    "    y_pred.insert(i,np.dot(x_test[i], theta))\n",
    "    i = i+1\n",
    "    w.clear()"
   ]
  },
  {
   "cell_type": "code",
   "execution_count": 16,
   "metadata": {},
   "outputs": [
    {
     "name": "stdout",
     "output_type": "stream",
     "text": [
      "392.4389895772987\n"
     ]
    }
   ],
   "source": [
    "#finding out RMSE\n",
    "n = len(y_test)\n",
    "sum = 0\n",
    "\n",
    "for i in range(0,n):\n",
    "    sum = sum + pow(y_test[i]-y_pred[i],2)\n",
    "\n",
    "rmse = math.sqrt(sum/n)\n",
    "print(rmse)"
   ]
  },
  {
   "cell_type": "code",
   "execution_count": null,
   "metadata": {},
   "outputs": [],
   "source": []
  },
  {
   "cell_type": "code",
   "execution_count": null,
   "metadata": {},
   "outputs": [],
   "source": []
  }
 ],
 "metadata": {
  "kernelspec": {
   "display_name": "Python 3",
   "language": "python",
   "name": "python3"
  },
  "language_info": {
   "codemirror_mode": {
    "name": "ipython",
    "version": 3
   },
   "file_extension": ".py",
   "mimetype": "text/x-python",
   "name": "python",
   "nbconvert_exporter": "python",
   "pygments_lexer": "ipython3",
   "version": "3.7.4"
  }
 },
 "nbformat": 4,
 "nbformat_minor": 2
}
